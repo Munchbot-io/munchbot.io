{
 "cells": [
  {
   "cell_type": "code",
   "execution_count": 0,
   "metadata": {
    "colab": {},
    "colab_type": "code",
    "id": "JQXP7Dokevom"
   },
   "outputs": [],
   "source": [
    "import numpy as np \n",
    "import pandas as pd \n",
    "import re\n",
    "from sklearn.feature_extraction.text import TfidfVectorizer\n",
    "from sklearn.metrics.pairwise import linear_kernel\n",
    "from nltk.tokenize import word_tokenize\n",
    "import seaborn as sns\n",
    "import matplotlib.pyplot as plt"
   ]
  },
  {
   "cell_type": "code",
   "execution_count": 31,
   "metadata": {
    "colab": {
     "base_uri": "https://localhost:8080/",
     "height": 54
    },
    "colab_type": "code",
    "id": "PSG-Aol1fu9i",
    "outputId": "eef6c2d1-69dc-4756-a14d-7d1417a4ba58"
   },
   "outputs": [
    {
     "name": "stdout",
     "output_type": "stream",
     "text": [
      "[{'restaurant': {'R': {'has_menu_status': {'delivery': -1, 'takeaway': -1}, 'res_id': 17176104}, 'apikey': 'a6e08b68522003610f9d16344ae7c0e3', 'id': '17176104', 'name': \"Infusino's Pizzeria\", 'url': 'https://www.zomato.com/milwaukee/infusinos-pizzeria-racine?utm_source=api_basic_user&utm_medium=api&utm_campaign=v2.1', 'location': {'address': '3301 Washington Avenue, Racine 53405', 'locality': 'Racine', 'city': 'Milwaukee', 'city_id': 1267, 'latitude': '42.7185770000', 'longitude': '-87.8186800000', 'zipcode': '53405', 'country_id': 216, 'locality_verbose': 'Racine, Milwaukee'}, 'switch_to_order_menu': 0, 'cuisines': 'Pizza', 'average_cost_for_two': 25, 'price_range': 2, 'currency': '$', 'offers': [], 'opentable_support': 0, 'is_zomato_book_res': 0, 'mezzo_provider': 'OTHER', 'is_book_form_web_view': 0, 'book_form_web_view_url': '', 'book_again_url': '', 'thumb': '', 'user_rating': {'aggregate_rating': '3.9', 'rating_text': 'Good', 'rating_color': '9ACD32', 'rating_obj': {'title': {'text': '3.9'}, 'bg_color': {'type': 'lime', 'tint': '600'}}, 'votes': '45'}, 'photos_url': 'https://www.zomato.com/milwaukee/infusinos-pizzeria-racine/photos?utm_source=api_basic_user&utm_medium=api&utm_campaign=v2.1#tabtop', 'menu_url': 'https://www.zomato.com/milwaukee/infusinos-pizzeria-racine/menu?utm_source=api_basic_user&utm_medium=api&utm_campaign=v2.1&openSwipeBox=menu&showMinimal=1#tabtop', 'featured_image': '', 'has_online_delivery': 0, 'is_delivering_now': 0, 'include_bogo_offers': True, 'deeplink': 'zomato://restaurant/17176104', 'is_table_reservation_supported': 0, 'has_table_booking': 0, 'events_url': 'https://www.zomato.com/milwaukee/infusinos-pizzeria-racine/events#tabtop?utm_source=api_basic_user&utm_medium=api&utm_campaign=v2.1'}}, {'restaurant': {'R': {'has_menu_status': {'delivery': -1, 'takeaway': -1}, 'res_id': 17175292}, 'apikey': 'a6e08b68522003610f9d16344ae7c0e3', 'id': '17175292', 'name': \"Bernie's Pizzeria\", 'url': 'https://www.zomato.com/milwaukee/bernies-pizzeria-racine?utm_source=api_basic_user&utm_medium=api&utm_campaign=v2.1', 'location': {'address': '1238 Lathrop Ave, Racine 53405', 'locality': 'Racine', 'city': 'Milwaukee', 'city_id': 1267, 'latitude': '42.7179260000', 'longitude': '-87.8263340000', 'zipcode': '53405', 'country_id': 216, 'locality_verbose': 'Racine, Milwaukee'}, 'switch_to_order_menu': 0, 'cuisines': 'Pizza', 'average_cost_for_two': 25, 'price_range': 2, 'currency': '$', 'offers': [], 'opentable_support': 0, 'is_zomato_book_res': 0, 'mezzo_provider': 'OTHER', 'is_book_form_web_view': 0, 'book_form_web_view_url': '', 'book_again_url': '', 'thumb': '', 'user_rating': {'aggregate_rating': '3.9', 'rating_text': 'Good', 'rating_color': '9ACD32', 'rating_obj': {'title': {'text': '3.9'}, 'bg_color': {'type': 'lime', 'tint': '600'}}, 'votes': '23'}, 'photos_url': 'https://www.zomato.com/milwaukee/bernies-pizzeria-racine/photos?utm_source=api_basic_user&utm_medium=api&utm_campaign=v2.1#tabtop', 'menu_url': 'https://www.zomato.com/milwaukee/bernies-pizzeria-racine/menu?utm_source=api_basic_user&utm_medium=api&utm_campaign=v2.1&openSwipeBox=menu&showMinimal=1#tabtop', 'featured_image': '', 'has_online_delivery': 0, 'is_delivering_now': 0, 'include_bogo_offers': True, 'deeplink': 'zomato://restaurant/17175292', 'is_table_reservation_supported': 0, 'has_table_booking': 0, 'events_url': 'https://www.zomato.com/milwaukee/bernies-pizzeria-racine/events#tabtop?utm_source=api_basic_user&utm_medium=api&utm_campaign=v2.1'}}, {'restaurant': {'R': {'has_menu_status': {'delivery': -1, 'takeaway': -1}, 'res_id': 17176320}, 'apikey': 'a6e08b68522003610f9d16344ae7c0e3', 'id': '17176320', 'name': \"Lee's Deli\", 'url': 'https://www.zomato.com/milwaukee/lees-deli-racine?utm_source=api_basic_user&utm_medium=api&utm_campaign=v2.1', 'location': {'address': '2615 Washington Ave, Racine 53405', 'locality': 'Racine', 'city': 'Milwaukee', 'city_id': 1267, 'latitude': '42.7145220000', 'longitude': '-87.8099960000', 'zipcode': '53405', 'country_id': 216, 'locality_verbose': 'Racine, Milwaukee'}, 'switch_to_order_menu': 0, 'cuisines': 'Sandwich', 'average_cost_for_two': 10, 'price_range': 1, 'currency': '$', 'offers': [], 'opentable_support': 0, 'is_zomato_book_res': 0, 'mezzo_provider': 'OTHER', 'is_book_form_web_view': 0, 'book_form_web_view_url': '', 'book_again_url': '', 'thumb': '', 'user_rating': {'aggregate_rating': '3.8', 'rating_text': 'Good', 'rating_color': '9ACD32', 'rating_obj': {'title': {'text': '3.8'}, 'bg_color': {'type': 'lime', 'tint': '600'}}, 'votes': '18'}, 'photos_url': 'https://www.zomato.com/milwaukee/lees-deli-racine/photos?utm_source=api_basic_user&utm_medium=api&utm_campaign=v2.1#tabtop', 'menu_url': 'https://www.zomato.com/milwaukee/lees-deli-racine/menu?utm_source=api_basic_user&utm_medium=api&utm_campaign=v2.1&openSwipeBox=menu&showMinimal=1#tabtop', 'featured_image': '', 'has_online_delivery': 0, 'is_delivering_now': 0, 'include_bogo_offers': True, 'deeplink': 'zomato://restaurant/17176320', 'is_table_reservation_supported': 0, 'has_table_booking': 0, 'events_url': 'https://www.zomato.com/milwaukee/lees-deli-racine/events#tabtop?utm_source=api_basic_user&utm_medium=api&utm_campaign=v2.1'}}, {'restaurant': {'R': {'has_menu_status': {'delivery': -1, 'takeaway': -1}, 'res_id': 17177280}, 'apikey': 'a6e08b68522003610f9d16344ae7c0e3', 'id': '17177280', 'name': \"Wilson's Coffee & Tea\", 'url': 'https://www.zomato.com/milwaukee/wilsons-coffee-tea-racine?utm_source=api_basic_user&utm_medium=api&utm_campaign=v2.1', 'location': {'address': '3306 Washington Ave, Racine 53405', 'locality': 'Racine', 'city': 'Milwaukee', 'city_id': 1267, 'latitude': '42.7188530000', 'longitude': '-87.8187430000', 'zipcode': '53405', 'country_id': 216, 'locality_verbose': 'Racine, Milwaukee'}, 'switch_to_order_menu': 0, 'cuisines': 'Coffee and Tea', 'average_cost_for_two': 10, 'price_range': 1, 'currency': '$', 'offers': [], 'opentable_support': 0, 'is_zomato_book_res': 0, 'mezzo_provider': 'OTHER', 'is_book_form_web_view': 0, 'book_form_web_view_url': '', 'book_again_url': '', 'thumb': '', 'user_rating': {'aggregate_rating': '3.7', 'rating_text': 'Good', 'rating_color': '9ACD32', 'rating_obj': {'title': {'text': '3.7'}, 'bg_color': {'type': 'lime', 'tint': '600'}}, 'votes': '13'}, 'photos_url': 'https://www.zomato.com/milwaukee/wilsons-coffee-tea-racine/photos?utm_source=api_basic_user&utm_medium=api&utm_campaign=v2.1#tabtop', 'menu_url': 'https://www.zomato.com/milwaukee/wilsons-coffee-tea-racine/menu?utm_source=api_basic_user&utm_medium=api&utm_campaign=v2.1&openSwipeBox=menu&showMinimal=1#tabtop', 'featured_image': '', 'has_online_delivery': 0, 'is_delivering_now': 0, 'include_bogo_offers': True, 'deeplink': 'zomato://restaurant/17177280', 'is_table_reservation_supported': 0, 'has_table_booking': 0, 'events_url': 'https://www.zomato.com/milwaukee/wilsons-coffee-tea-racine/events#tabtop?utm_source=api_basic_user&utm_medium=api&utm_campaign=v2.1'}}, {'restaurant': {'R': {'has_menu_status': {'delivery': -1, 'takeaway': -1}, 'res_id': 17175678}, 'apikey': 'a6e08b68522003610f9d16344ae7c0e3', 'id': '17175678', 'name': \"DeRango's The Pizza King\", 'url': 'https://www.zomato.com/milwaukee/derangos-the-pizza-king-racine?utm_source=api_basic_user&utm_medium=api&utm_campaign=v2.1', 'location': {'address': '3114 Washington Avenue 53405', 'locality': 'Racine', 'city': 'Milwaukee', 'city_id': 1267, 'latitude': '42.7187900000', 'longitude': '-87.8164600000', 'zipcode': '53405', 'country_id': 216, 'locality_verbose': 'Racine, Milwaukee'}, 'switch_to_order_menu': 0, 'cuisines': 'Pizza', 'average_cost_for_two': 25, 'price_range': 2, 'currency': '$', 'offers': [], 'opentable_support': 0, 'is_zomato_book_res': 0, 'mezzo_provider': 'OTHER', 'is_book_form_web_view': 0, 'book_form_web_view_url': '', 'book_again_url': '', 'thumb': '', 'user_rating': {'aggregate_rating': '3.7', 'rating_text': 'Good', 'rating_color': '9ACD32', 'rating_obj': {'title': {'text': '3.7'}, 'bg_color': {'type': 'lime', 'tint': '600'}}, 'votes': '15'}, 'photos_url': 'https://www.zomato.com/milwaukee/derangos-the-pizza-king-racine/photos?utm_source=api_basic_user&utm_medium=api&utm_campaign=v2.1#tabtop', 'menu_url': 'https://www.zomato.com/milwaukee/derangos-the-pizza-king-racine/menu?utm_source=api_basic_user&utm_medium=api&utm_campaign=v2.1&openSwipeBox=menu&showMinimal=1#tabtop', 'featured_image': '', 'has_online_delivery': 0, 'is_delivering_now': 0, 'include_bogo_offers': True, 'deeplink': 'zomato://restaurant/17175678', 'is_table_reservation_supported': 0, 'has_table_booking': 0, 'events_url': 'https://www.zomato.com/milwaukee/derangos-the-pizza-king-racine/events#tabtop?utm_source=api_basic_user&utm_medium=api&utm_campaign=v2.1'}}, {'restaurant': {'R': {'has_menu_status': {'delivery': -1, 'takeaway': -1}, 'res_id': 17175282}, 'apikey': 'a6e08b68522003610f9d16344ae7c0e3', 'id': '17175282', 'name': \"Bendtsen's Bakery\", 'url': 'https://www.zomato.com/milwaukee/bendtsens-bakery-racine?utm_source=api_basic_user&utm_medium=api&utm_campaign=v2.1', 'location': {'address': '3200 Washington Ave, Racine 53405', 'locality': 'Racine', 'city': 'Milwaukee', 'city_id': 1267, 'latitude': '42.7187700000', 'longitude': '-87.8175410000', 'zipcode': '53405', 'country_id': 216, 'locality_verbose': 'Racine, Milwaukee'}, 'switch_to_order_menu': 0, 'cuisines': '', 'average_cost_for_two': 10, 'price_range': 1, 'currency': '$', 'offers': [], 'opentable_support': 0, 'is_zomato_book_res': 0, 'mezzo_provider': 'OTHER', 'is_book_form_web_view': 0, 'book_form_web_view_url': '', 'book_again_url': '', 'thumb': '', 'user_rating': {'aggregate_rating': '3.7', 'rating_text': 'Good', 'rating_color': '9ACD32', 'rating_obj': {'title': {'text': '3.7'}, 'bg_color': {'type': 'lime', 'tint': '600'}}, 'votes': '11'}, 'photos_url': 'https://www.zomato.com/milwaukee/bendtsens-bakery-racine/photos?utm_source=api_basic_user&utm_medium=api&utm_campaign=v2.1#tabtop', 'menu_url': 'https://www.zomato.com/milwaukee/bendtsens-bakery-racine/menu?utm_source=api_basic_user&utm_medium=api&utm_campaign=v2.1&openSwipeBox=menu&showMinimal=1#tabtop', 'featured_image': '', 'has_online_delivery': 0, 'is_delivering_now': 0, 'include_bogo_offers': True, 'deeplink': 'zomato://restaurant/17175282', 'is_table_reservation_supported': 0, 'has_table_booking': 0, 'events_url': 'https://www.zomato.com/milwaukee/bendtsens-bakery-racine/events#tabtop?utm_source=api_basic_user&utm_medium=api&utm_campaign=v2.1'}}, {'restaurant': {'R': {'has_menu_status': {'delivery': -1, 'takeaway': -1}, 'res_id': 17176304}, 'apikey': 'a6e08b68522003610f9d16344ae7c0e3', 'id': '17176304', 'name': 'Larsen Bakery', 'url': 'https://www.zomato.com/milwaukee/larsen-bakery-racine?utm_source=api_basic_user&utm_medium=api&utm_campaign=v2.1', 'location': {'address': '3311 Washington Ave, Racine 53405', 'locality': 'Racine', 'city': 'Milwaukee', 'city_id': 1267, 'latitude': '42.7185070000', 'longitude': '-87.8187850000', 'zipcode': '53405', 'country_id': 216, 'locality_verbose': 'Racine, Milwaukee'}, 'switch_to_order_menu': 0, 'cuisines': '', 'average_cost_for_two': 10, 'price_range': 1, 'currency': '$', 'offers': [], 'opentable_support': 0, 'is_zomato_book_res': 0, 'mezzo_provider': 'OTHER', 'is_book_form_web_view': 0, 'book_form_web_view_url': '', 'book_again_url': '', 'thumb': '', 'user_rating': {'aggregate_rating': '3.4', 'rating_text': 'Average', 'rating_color': 'CDD614', 'rating_obj': {'title': {'text': '3.4'}, 'bg_color': {'type': 'lime', 'tint': '500'}}, 'votes': '9'}, 'photos_url': 'https://www.zomato.com/milwaukee/larsen-bakery-racine/photos?utm_source=api_basic_user&utm_medium=api&utm_campaign=v2.1#tabtop', 'menu_url': 'https://www.zomato.com/milwaukee/larsen-bakery-racine/menu?utm_source=api_basic_user&utm_medium=api&utm_campaign=v2.1&openSwipeBox=menu&showMinimal=1#tabtop', 'featured_image': '', 'has_online_delivery': 0, 'is_delivering_now': 0, 'include_bogo_offers': True, 'deeplink': 'zomato://restaurant/17176304', 'is_table_reservation_supported': 0, 'has_table_booking': 0, 'events_url': 'https://www.zomato.com/milwaukee/larsen-bakery-racine/events#tabtop?utm_source=api_basic_user&utm_medium=api&utm_campaign=v2.1'}}, {'restaurant': {'R': {'has_menu_status': {'delivery': -1, 'takeaway': -1}, 'res_id': 17176439}, 'apikey': 'a6e08b68522003610f9d16344ae7c0e3', 'id': '17176439', 'name': \"McDonald's\", 'url': 'https://www.zomato.com/milwaukee/mcdonalds-racine?utm_source=api_basic_user&utm_medium=api&utm_campaign=v2.1', 'location': {'address': '1520 State Street 53404', 'locality': 'Racine', 'city': 'Milwaukee', 'city_id': 1267, 'latitude': '42.7321520000', 'longitude': '-87.7994890000', 'zipcode': '53404', 'country_id': 216, 'locality_verbose': 'Racine, Milwaukee'}, 'switch_to_order_menu': 0, 'cuisines': 'Fast Food', 'average_cost_for_two': 10, 'price_range': 1, 'currency': '$', 'offers': [], 'opentable_support': 0, 'is_zomato_book_res': 0, 'mezzo_provider': 'OTHER', 'is_book_form_web_view': 0, 'book_form_web_view_url': '', 'book_again_url': '', 'thumb': '', 'user_rating': {'aggregate_rating': '3.1', 'rating_text': 'Average', 'rating_color': 'CDD614', 'rating_obj': {'title': {'text': '3.1'}, 'bg_color': {'type': 'lime', 'tint': '500'}}, 'votes': '5'}, 'photos_url': 'https://www.zomato.com/milwaukee/mcdonalds-racine/photos?utm_source=api_basic_user&utm_medium=api&utm_campaign=v2.1#tabtop', 'menu_url': 'https://www.zomato.com/milwaukee/mcdonalds-racine/menu?utm_source=api_basic_user&utm_medium=api&utm_campaign=v2.1&openSwipeBox=menu&showMinimal=1#tabtop', 'featured_image': '', 'has_online_delivery': 0, 'is_delivering_now': 0, 'include_bogo_offers': True, 'deeplink': 'zomato://restaurant/17176439', 'is_table_reservation_supported': 0, 'has_table_booking': 0, 'events_url': 'https://www.zomato.com/milwaukee/mcdonalds-racine/events#tabtop?utm_source=api_basic_user&utm_medium=api&utm_campaign=v2.1'}}, {'restaurant': {'R': {'has_menu_status': {'delivery': -1, 'takeaway': -1}, 'res_id': 17879119}, 'apikey': 'a6e08b68522003610f9d16344ae7c0e3', 'id': '17879119', 'name': 'River Run Family Restaurant', 'url': 'https://www.zomato.com/milwaukee/river-run-family-restaurant-racine?utm_source=api_basic_user&utm_medium=api&utm_campaign=v2.1', 'location': {'address': '3616 Northwestern Avenue, Racine, WI 53404, USA', 'locality': 'Racine', 'city': 'Milwaukee', 'city_id': 1267, 'latitude': '0.0000000000', 'longitude': '0.0000000000', 'zipcode': '', 'country_id': 216, 'locality_verbose': 'Racine, Milwaukee'}, 'switch_to_order_menu': 0, 'cuisines': 'American', 'average_cost_for_two': 20, 'price_range': 2, 'currency': '$', 'offers': [], 'opentable_support': 0, 'is_zomato_book_res': 0, 'mezzo_provider': 'OTHER', 'is_book_form_web_view': 0, 'book_form_web_view_url': '', 'book_again_url': '', 'thumb': '', 'user_rating': {'aggregate_rating': 0, 'rating_text': 'Not rated', 'rating_color': 'CBCBCB', 'rating_obj': {'title': {'text': '-'}, 'bg_color': {'type': 'grey', 'tint': '400'}}, 'votes': 1}, 'photos_url': 'https://www.zomato.com/milwaukee/river-run-family-restaurant-racine/photos?utm_source=api_basic_user&utm_medium=api&utm_campaign=v2.1#tabtop', 'menu_url': 'https://www.zomato.com/milwaukee/river-run-family-restaurant-racine/menu?utm_source=api_basic_user&utm_medium=api&utm_campaign=v2.1&openSwipeBox=menu&showMinimal=1#tabtop', 'featured_image': '', 'has_online_delivery': 0, 'is_delivering_now': 0, 'include_bogo_offers': True, 'deeplink': 'zomato://restaurant/17879119', 'is_table_reservation_supported': 0, 'has_table_booking': 0, 'events_url': 'https://www.zomato.com/milwaukee/river-run-family-restaurant-racine/events#tabtop?utm_source=api_basic_user&utm_medium=api&utm_campaign=v2.1'}}]\n"
     ]
    }
   ],
   "source": [
    "import requests\n",
    "from pprint import pprint\n",
    "\n",
    "locationUrlFromLatLong = \"https://developers.zomato.com/api/v2.1/geocode?lat=42.8781&lon=-87.6333\"\n",
    "header = {\"User-agent\": \"curl/7.43.0\", \"Accept\": \"application/json\", \"user_key\": \"API_Key\"}\n",
    "\n",
    "response = requests.get(locationUrlFromLatLong, headers=header)\n",
    "\n",
    "#pprint(response.json())\n",
    "var1 = response.json()\n",
    "data1 = (var1['nearby_restaurants'])\n",
    "print (data1)"
   ]
  },
  {
   "cell_type": "code",
   "execution_count": 0,
   "metadata": {
    "colab": {},
    "colab_type": "code",
    "id": "VDrqw7dkrHYZ"
   },
   "outputs": [],
   "source": [
    "df = pd.DataFrame(columns=['id',\"name\", \"address\",\"locality\",\"city\",\"url\",'cuisines','cost_2','photo','rating_no','rating_text'])\n"
   ]
  },
  {
   "cell_type": "code",
   "execution_count": 0,
   "metadata": {
    "colab": {},
    "colab_type": "code",
    "id": "H7Z9f41_sshA"
   },
   "outputs": [],
   "source": []
  },
  {
   "cell_type": "code",
   "execution_count": 0,
   "metadata": {
    "colab": {},
    "colab_type": "code",
    "id": "xDwECZvXo_-B"
   },
   "outputs": [],
   "source": [
    "df.drop(df.index, inplace=True)\n",
    "\n",
    "for res in data1:\n",
    "\n",
    "  df = df.append({\n",
    "      'id': res['restaurant']['id'],\n",
    "     \"name\": res['restaurant']['name'],\n",
    "     \"address\":res['restaurant']['location']['address'],\n",
    "     \"locality\":res['restaurant']['location']['locality'],\n",
    "     \"city\":res['restaurant']['location']['city'],\n",
    "     \"url\":res['restaurant']['url'],\n",
    "     'cuisines':res['restaurant']['cuisines'],\n",
    "     'cost_2':res['restaurant']['average_cost_for_two'],\n",
    "     'photo':res['restaurant']['photos_url'],\n",
    "     'rating_no':res['restaurant']['user_rating']['aggregate_rating'],\n",
    "     'rating_text': res['restaurant']['user_rating']['rating_text']\n",
    "      }, ignore_index=True)"
   ]
  },
  {
   "cell_type": "code",
   "execution_count": 54,
   "metadata": {
    "colab": {
     "base_uri": "https://localhost:8080/",
     "height": 187
    },
    "colab_type": "code",
    "id": "HH58cvLPs6PO",
    "outputId": "6771409f-77f3-428d-f726-33126c4a91bb"
   },
   "outputs": [
    {
     "name": "stdout",
     "output_type": "stream",
     "text": [
      "0    Racine\n",
      "1    Racine\n",
      "2    Racine\n",
      "3    Racine\n",
      "4    Racine\n",
      "5    Racine\n",
      "6    Racine\n",
      "7    Racine\n",
      "8    Racine\n",
      "Name: locality, dtype: object\n"
     ]
    }
   ],
   "source": [
    "print(df.locality)"
   ]
  },
  {
   "cell_type": "code",
   "execution_count": 5,
   "metadata": {
    "colab": {
     "base_uri": "https://localhost:8080/",
     "height": 375
    },
    "colab_type": "code",
    "id": "FXcAyavnevoo",
    "outputId": "2ce38437-9c16-49eb-9018-17747610ae99"
   },
   "outputs": [
    {
     "ename": "FileNotFoundError",
     "evalue": "ignored",
     "output_type": "error",
     "traceback": [
      "\u001b[0;31m---------------------------------------------------------------------------\u001b[0m",
      "\u001b[0;31mFileNotFoundError\u001b[0m                         Traceback (most recent call last)",
      "\u001b[0;32m<ipython-input-5-860e37be913c>\u001b[0m in \u001b[0;36m<module>\u001b[0;34m()\u001b[0m\n\u001b[0;32m----> 1\u001b[0;31m \u001b[0mdata\u001b[0m \u001b[0;34m=\u001b[0m \u001b[0mpd\u001b[0m\u001b[0;34m.\u001b[0m\u001b[0mread_csv\u001b[0m\u001b[0;34m(\u001b[0m\u001b[0;34m'zomato.csv'\u001b[0m\u001b[0;34m,\u001b[0m \u001b[0mencoding\u001b[0m\u001b[0;34m=\u001b[0m\u001b[0;34m'latin-1'\u001b[0m\u001b[0;34m)\u001b[0m\u001b[0;34m\u001b[0m\u001b[0;34m\u001b[0m\u001b[0m\n\u001b[0m",
      "\u001b[0;32m/usr/local/lib/python3.6/dist-packages/pandas/io/parsers.py\u001b[0m in \u001b[0;36mparser_f\u001b[0;34m(filepath_or_buffer, sep, delimiter, header, names, index_col, usecols, squeeze, prefix, mangle_dupe_cols, dtype, engine, converters, true_values, false_values, skipinitialspace, skiprows, skipfooter, nrows, na_values, keep_default_na, na_filter, verbose, skip_blank_lines, parse_dates, infer_datetime_format, keep_date_col, date_parser, dayfirst, cache_dates, iterator, chunksize, compression, thousands, decimal, lineterminator, quotechar, quoting, doublequote, escapechar, comment, encoding, dialect, error_bad_lines, warn_bad_lines, delim_whitespace, low_memory, memory_map, float_precision)\u001b[0m\n\u001b[1;32m    683\u001b[0m         )\n\u001b[1;32m    684\u001b[0m \u001b[0;34m\u001b[0m\u001b[0m\n\u001b[0;32m--> 685\u001b[0;31m         \u001b[0;32mreturn\u001b[0m \u001b[0m_read\u001b[0m\u001b[0;34m(\u001b[0m\u001b[0mfilepath_or_buffer\u001b[0m\u001b[0;34m,\u001b[0m \u001b[0mkwds\u001b[0m\u001b[0;34m)\u001b[0m\u001b[0;34m\u001b[0m\u001b[0;34m\u001b[0m\u001b[0m\n\u001b[0m\u001b[1;32m    686\u001b[0m \u001b[0;34m\u001b[0m\u001b[0m\n\u001b[1;32m    687\u001b[0m     \u001b[0mparser_f\u001b[0m\u001b[0;34m.\u001b[0m\u001b[0m__name__\u001b[0m \u001b[0;34m=\u001b[0m \u001b[0mname\u001b[0m\u001b[0;34m\u001b[0m\u001b[0;34m\u001b[0m\u001b[0m\n",
      "\u001b[0;32m/usr/local/lib/python3.6/dist-packages/pandas/io/parsers.py\u001b[0m in \u001b[0;36m_read\u001b[0;34m(filepath_or_buffer, kwds)\u001b[0m\n\u001b[1;32m    455\u001b[0m \u001b[0;34m\u001b[0m\u001b[0m\n\u001b[1;32m    456\u001b[0m     \u001b[0;31m# Create the parser.\u001b[0m\u001b[0;34m\u001b[0m\u001b[0;34m\u001b[0m\u001b[0;34m\u001b[0m\u001b[0m\n\u001b[0;32m--> 457\u001b[0;31m     \u001b[0mparser\u001b[0m \u001b[0;34m=\u001b[0m \u001b[0mTextFileReader\u001b[0m\u001b[0;34m(\u001b[0m\u001b[0mfp_or_buf\u001b[0m\u001b[0;34m,\u001b[0m \u001b[0;34m**\u001b[0m\u001b[0mkwds\u001b[0m\u001b[0;34m)\u001b[0m\u001b[0;34m\u001b[0m\u001b[0;34m\u001b[0m\u001b[0m\n\u001b[0m\u001b[1;32m    458\u001b[0m \u001b[0;34m\u001b[0m\u001b[0m\n\u001b[1;32m    459\u001b[0m     \u001b[0;32mif\u001b[0m \u001b[0mchunksize\u001b[0m \u001b[0;32mor\u001b[0m \u001b[0miterator\u001b[0m\u001b[0;34m:\u001b[0m\u001b[0;34m\u001b[0m\u001b[0;34m\u001b[0m\u001b[0m\n",
      "\u001b[0;32m/usr/local/lib/python3.6/dist-packages/pandas/io/parsers.py\u001b[0m in \u001b[0;36m__init__\u001b[0;34m(self, f, engine, **kwds)\u001b[0m\n\u001b[1;32m    893\u001b[0m             \u001b[0mself\u001b[0m\u001b[0;34m.\u001b[0m\u001b[0moptions\u001b[0m\u001b[0;34m[\u001b[0m\u001b[0;34m\"has_index_names\"\u001b[0m\u001b[0;34m]\u001b[0m \u001b[0;34m=\u001b[0m \u001b[0mkwds\u001b[0m\u001b[0;34m[\u001b[0m\u001b[0;34m\"has_index_names\"\u001b[0m\u001b[0;34m]\u001b[0m\u001b[0;34m\u001b[0m\u001b[0;34m\u001b[0m\u001b[0m\n\u001b[1;32m    894\u001b[0m \u001b[0;34m\u001b[0m\u001b[0m\n\u001b[0;32m--> 895\u001b[0;31m         \u001b[0mself\u001b[0m\u001b[0;34m.\u001b[0m\u001b[0m_make_engine\u001b[0m\u001b[0;34m(\u001b[0m\u001b[0mself\u001b[0m\u001b[0;34m.\u001b[0m\u001b[0mengine\u001b[0m\u001b[0;34m)\u001b[0m\u001b[0;34m\u001b[0m\u001b[0;34m\u001b[0m\u001b[0m\n\u001b[0m\u001b[1;32m    896\u001b[0m \u001b[0;34m\u001b[0m\u001b[0m\n\u001b[1;32m    897\u001b[0m     \u001b[0;32mdef\u001b[0m \u001b[0mclose\u001b[0m\u001b[0;34m(\u001b[0m\u001b[0mself\u001b[0m\u001b[0;34m)\u001b[0m\u001b[0;34m:\u001b[0m\u001b[0;34m\u001b[0m\u001b[0;34m\u001b[0m\u001b[0m\n",
      "\u001b[0;32m/usr/local/lib/python3.6/dist-packages/pandas/io/parsers.py\u001b[0m in \u001b[0;36m_make_engine\u001b[0;34m(self, engine)\u001b[0m\n\u001b[1;32m   1133\u001b[0m     \u001b[0;32mdef\u001b[0m \u001b[0m_make_engine\u001b[0m\u001b[0;34m(\u001b[0m\u001b[0mself\u001b[0m\u001b[0;34m,\u001b[0m \u001b[0mengine\u001b[0m\u001b[0;34m=\u001b[0m\u001b[0;34m\"c\"\u001b[0m\u001b[0;34m)\u001b[0m\u001b[0;34m:\u001b[0m\u001b[0;34m\u001b[0m\u001b[0;34m\u001b[0m\u001b[0m\n\u001b[1;32m   1134\u001b[0m         \u001b[0;32mif\u001b[0m \u001b[0mengine\u001b[0m \u001b[0;34m==\u001b[0m \u001b[0;34m\"c\"\u001b[0m\u001b[0;34m:\u001b[0m\u001b[0;34m\u001b[0m\u001b[0;34m\u001b[0m\u001b[0m\n\u001b[0;32m-> 1135\u001b[0;31m             \u001b[0mself\u001b[0m\u001b[0;34m.\u001b[0m\u001b[0m_engine\u001b[0m \u001b[0;34m=\u001b[0m \u001b[0mCParserWrapper\u001b[0m\u001b[0;34m(\u001b[0m\u001b[0mself\u001b[0m\u001b[0;34m.\u001b[0m\u001b[0mf\u001b[0m\u001b[0;34m,\u001b[0m \u001b[0;34m**\u001b[0m\u001b[0mself\u001b[0m\u001b[0;34m.\u001b[0m\u001b[0moptions\u001b[0m\u001b[0;34m)\u001b[0m\u001b[0;34m\u001b[0m\u001b[0;34m\u001b[0m\u001b[0m\n\u001b[0m\u001b[1;32m   1136\u001b[0m         \u001b[0;32melse\u001b[0m\u001b[0;34m:\u001b[0m\u001b[0;34m\u001b[0m\u001b[0;34m\u001b[0m\u001b[0m\n\u001b[1;32m   1137\u001b[0m             \u001b[0;32mif\u001b[0m \u001b[0mengine\u001b[0m \u001b[0;34m==\u001b[0m \u001b[0;34m\"python\"\u001b[0m\u001b[0;34m:\u001b[0m\u001b[0;34m\u001b[0m\u001b[0;34m\u001b[0m\u001b[0m\n",
      "\u001b[0;32m/usr/local/lib/python3.6/dist-packages/pandas/io/parsers.py\u001b[0m in \u001b[0;36m__init__\u001b[0;34m(self, src, **kwds)\u001b[0m\n\u001b[1;32m   1915\u001b[0m         \u001b[0mkwds\u001b[0m\u001b[0;34m[\u001b[0m\u001b[0;34m\"usecols\"\u001b[0m\u001b[0;34m]\u001b[0m \u001b[0;34m=\u001b[0m \u001b[0mself\u001b[0m\u001b[0;34m.\u001b[0m\u001b[0musecols\u001b[0m\u001b[0;34m\u001b[0m\u001b[0;34m\u001b[0m\u001b[0m\n\u001b[1;32m   1916\u001b[0m \u001b[0;34m\u001b[0m\u001b[0m\n\u001b[0;32m-> 1917\u001b[0;31m         \u001b[0mself\u001b[0m\u001b[0;34m.\u001b[0m\u001b[0m_reader\u001b[0m \u001b[0;34m=\u001b[0m \u001b[0mparsers\u001b[0m\u001b[0;34m.\u001b[0m\u001b[0mTextReader\u001b[0m\u001b[0;34m(\u001b[0m\u001b[0msrc\u001b[0m\u001b[0;34m,\u001b[0m \u001b[0;34m**\u001b[0m\u001b[0mkwds\u001b[0m\u001b[0;34m)\u001b[0m\u001b[0;34m\u001b[0m\u001b[0;34m\u001b[0m\u001b[0m\n\u001b[0m\u001b[1;32m   1918\u001b[0m         \u001b[0mself\u001b[0m\u001b[0;34m.\u001b[0m\u001b[0munnamed_cols\u001b[0m \u001b[0;34m=\u001b[0m \u001b[0mself\u001b[0m\u001b[0;34m.\u001b[0m\u001b[0m_reader\u001b[0m\u001b[0;34m.\u001b[0m\u001b[0munnamed_cols\u001b[0m\u001b[0;34m\u001b[0m\u001b[0;34m\u001b[0m\u001b[0m\n\u001b[1;32m   1919\u001b[0m \u001b[0;34m\u001b[0m\u001b[0m\n",
      "\u001b[0;32mpandas/_libs/parsers.pyx\u001b[0m in \u001b[0;36mpandas._libs.parsers.TextReader.__cinit__\u001b[0;34m()\u001b[0m\n",
      "\u001b[0;32mpandas/_libs/parsers.pyx\u001b[0m in \u001b[0;36mpandas._libs.parsers.TextReader._setup_parser_source\u001b[0;34m()\u001b[0m\n",
      "\u001b[0;31mFileNotFoundError\u001b[0m: [Errno 2] File b'zomato.csv' does not exist: b'zomato.csv'"
     ]
    }
   ],
   "source": [
    "data = pd.read_csv('zomato.csv', encoding='latin-1')\n"
   ]
  },
  {
   "cell_type": "code",
   "execution_count": 0,
   "metadata": {
    "colab": {},
    "colab_type": "code",
    "id": "6hArhEZPevoq"
   },
   "outputs": [],
   "source": [
    "#data['City'].value_counts(dropna = False)\n",
    "#data_city =data.loc[data['City'] == 'New Delhi']"
   ]
  },
  {
   "cell_type": "code",
   "execution_count": 0,
   "metadata": {
    "colab": {},
    "colab_type": "code",
    "id": "TR6dE1imevos"
   },
   "outputs": [],
   "source": [
    "#data_new_delphi=data_city[['Restaurant Name','Cuisines','Locality','Aggregate rating']]\n",
    "#data_new_delphi['Locality'].value_counts(dropna = False).head(5)"
   ]
  },
  {
   "cell_type": "code",
   "execution_count": 0,
   "metadata": {
    "colab": {},
    "colab_type": "code",
    "id": "jY4CxeJ8evou"
   },
   "outputs": [],
   "source": [
    "#data_new_delphi.loc[data['Locality'] == 'Connaught Place']"
   ]
  },
  {
   "cell_type": "code",
   "execution_count": 0,
   "metadata": {
    "colab": {},
    "colab_type": "code",
    "id": "IkcEy3Q7wdEv"
   },
   "outputs": [],
   "source": [
    "df1 = df[['name', 'cuisines', 'locality','rating_no']].copy()"
   ]
  },
  {
   "cell_type": "code",
   "execution_count": 61,
   "metadata": {
    "colab": {
     "base_uri": "https://localhost:8080/",
     "height": 187
    },
    "colab_type": "code",
    "id": "jfoYZrXGxDL6",
    "outputId": "8d428056-55de-4b3e-b2ea-dd9e07258184"
   },
   "outputs": [
    {
     "name": "stdout",
     "output_type": "stream",
     "text": [
      "                          name        cuisines locality rating_no\n",
      "0          Infusino's Pizzeria           Pizza   Racine       3.9\n",
      "1            Bernie's Pizzeria           Pizza   Racine       3.9\n",
      "2                   Lee's Deli        Sandwich   Racine       3.8\n",
      "3        Wilson's Coffee & Tea  Coffee and Tea   Racine       3.7\n",
      "4     DeRango's The Pizza King           Pizza   Racine       3.7\n",
      "5            Bendtsen's Bakery                   Racine       3.7\n",
      "6                Larsen Bakery                   Racine       3.4\n",
      "7                   McDonald's       Fast Food   Racine       3.1\n",
      "8  River Run Family Restaurant        American   Racine         0\n"
     ]
    }
   ],
   "source": [
    "print(df1)"
   ]
  },
  {
   "cell_type": "code",
   "execution_count": 62,
   "metadata": {
    "colab": {
     "base_uri": "https://localhost:8080/",
     "height": 312
    },
    "colab_type": "code",
    "id": "cycrA0JBevox",
    "outputId": "87b6021d-a120-4cde-e616-9b98a6f7db92"
   },
   "outputs": [
    {
     "name": "stderr",
     "output_type": "stream",
     "text": [
      "/usr/local/lib/python3.6/dist-packages/pandas/core/indexing.py:205: SettingWithCopyWarning: \n",
      "A value is trying to be set on a copy of a slice from a DataFrame\n",
      "\n",
      "See the caveats in the documentation: http://pandas.pydata.org/pandas-docs/stable/user_guide/indexing.html#returning-a-view-versus-a-copy\n",
      "  self._setitem_with_indexer(indexer, value)\n",
      "/usr/local/lib/python3.6/dist-packages/pandas/core/indexing.py:205: SettingWithCopyWarning: \n",
      "A value is trying to be set on a copy of a slice from a DataFrame\n",
      "\n",
      "See the caveats in the documentation: http://pandas.pydata.org/pandas-docs/stable/user_guide/indexing.html#returning-a-view-versus-a-copy\n",
      "  self._setitem_with_indexer(indexer, value)\n"
     ]
    },
    {
     "data": {
      "text/html": [
       "<div>\n",
       "<style scoped>\n",
       "    .dataframe tbody tr th:only-of-type {\n",
       "        vertical-align: middle;\n",
       "    }\n",
       "\n",
       "    .dataframe tbody tr th {\n",
       "        vertical-align: top;\n",
       "    }\n",
       "\n",
       "    .dataframe thead th {\n",
       "        text-align: right;\n",
       "    }\n",
       "</style>\n",
       "<table border=\"1\" class=\"dataframe\">\n",
       "  <thead>\n",
       "    <tr style=\"text-align: right;\">\n",
       "      <th></th>\n",
       "      <th>name</th>\n",
       "      <th>rating_no</th>\n",
       "      <th>Cosine Similarity</th>\n",
       "    </tr>\n",
       "  </thead>\n",
       "  <tbody>\n",
       "    <tr>\n",
       "      <th>0</th>\n",
       "      <td>Infusino's Pizzeria</td>\n",
       "      <td>3.9</td>\n",
       "      <td>1.0</td>\n",
       "    </tr>\n",
       "    <tr>\n",
       "      <th>1</th>\n",
       "      <td>Bernie's Pizzeria</td>\n",
       "      <td>3.9</td>\n",
       "      <td>1.0</td>\n",
       "    </tr>\n",
       "    <tr>\n",
       "      <th>4</th>\n",
       "      <td>DeRango's The Pizza King</td>\n",
       "      <td>3.7</td>\n",
       "      <td>1.0</td>\n",
       "    </tr>\n",
       "  </tbody>\n",
       "</table>\n",
       "</div>"
      ],
      "text/plain": [
       "                       name rating_no  Cosine Similarity\n",
       "0       Infusino's Pizzeria       3.9                1.0\n",
       "1         Bernie's Pizzeria       3.9                1.0\n",
       "4  DeRango's The Pizza King       3.7                1.0"
      ]
     },
     "execution_count": 62,
     "metadata": {
      "tags": []
     },
     "output_type": "execute_result"
    }
   ],
   "source": [
    "data_sample=[]\n",
    "def restaurant_recommend_func(location,title):   \n",
    "    global data_sample       \n",
    "    global cosine_sim\n",
    "    global sim_scores\n",
    "    global tfidf_matrix\n",
    "    global corpus_index\n",
    "    global feature\n",
    "    global rest_indices\n",
    "    global idx\n",
    "    \n",
    "    # When location comes from function ,our new data consist only location dataset\n",
    "    data_sample = df1.loc[df1['locality'] == location]  \n",
    "    \n",
    "    # index will be reset for cosine similarty index because Cosine similarty index has to be same value with result of tf-idf vectorize\n",
    "    data_sample.reset_index(level=0, inplace=True) \n",
    "    \n",
    "    #Feature Extraction\n",
    "    data_sample['Split']=\"X\"\n",
    "    for i in range(0,data_sample.index[-1]):\n",
    "        split_data=re.split(r'[,]', data_sample['cuisines'][i])\n",
    "        for k,l in enumerate(split_data):\n",
    "            split_data[k]=(split_data[k].replace(\" \", \"\"))\n",
    "        split_data=' '.join(split_data[:])\n",
    "        data_sample['Split'].iloc[i]=split_data\n",
    "        \n",
    "    #TF-IDF vectorizer\n",
    "    #Extracting Stopword\n",
    "    tfidf = TfidfVectorizer(stop_words='english')\n",
    "#Replace NaN for empty string\n",
    "    data_sample['Split'] = data_sample['Split'].fillna('')\n",
    "#Applying TF-IDF Vectorizer\n",
    "    tfidf_matrix = tfidf.fit_transform(data_sample['Split'])\n",
    "    tfidf_matrix.shape\n",
    "    \n",
    "    # Using for see Cosine Similarty scores\n",
    "    feature= tfidf.get_feature_names()\n",
    "#Cosine Similarity\n",
    "    # Compute the cosine similarity matrix\n",
    "    cosine_sim = linear_kernel(tfidf_matrix, tfidf_matrix) \n",
    "    \n",
    "    # Column names are using for index\n",
    "    corpus_index=[n for n in data_sample['Split']]\n",
    "       \n",
    "    #Construct a reverse map of indices    \n",
    "    indices = pd.Series(data_sample.index, index=data_sample['name']).drop_duplicates() \n",
    "    \n",
    "    #index of the restaurant matchs the cuisines\n",
    "    idx = indices[title]\n",
    "#Aggregate rating added with cosine score in sim_score list.\n",
    "    sim_scores=[]\n",
    "    for i,j in enumerate(cosine_sim[idx]):\n",
    "        k=data_sample['rating_no'].iloc[i]\n",
    "        if j != 0 :\n",
    "            sim_scores.append((i,j,k))\n",
    "            \n",
    "    #Sort the restaurant names based on the similarity scores\n",
    "    sim_scores = sorted(sim_scores, key=lambda x: (x[1],x[2]) , reverse=True)\n",
    "# 10 similar cuisines\n",
    "    sim_scores = sim_scores[0:10]\n",
    "    rest_indices = [i[0] for i in sim_scores] \n",
    "  \n",
    "    data_x =data_sample[['name','rating_no']].iloc[rest_indices]\n",
    "    \n",
    "    data_x['Cosine Similarity']=0\n",
    "    for i,j in enumerate(sim_scores):\n",
    "        data_x['Cosine Similarity'].iloc[i]=round(sim_scores[i][1],2)\n",
    "   \n",
    "    return data_x\n",
    "# Top 10 similar restaurant with cuisine of 'Pizza Hut' restaurant in Connaught Place\n",
    "restaurant_recommend_func('Racine',\"Bernie's Pizzeria\")"
   ]
  }
 ],
 "metadata": {
  "colab": {
   "name": "RE_munchbot.ipynb",
   "provenance": []
  },
  "kernelspec": {
   "display_name": "Python 3",
   "language": "python",
   "name": "python3"
  },
  "language_info": {
   "codemirror_mode": {
    "name": "ipython",
    "version": 3
   },
   "file_extension": ".py",
   "mimetype": "text/x-python",
   "name": "python",
   "nbconvert_exporter": "python",
   "pygments_lexer": "ipython3",
   "version": "3.6.5"
  }
 },
 "nbformat": 4,
 "nbformat_minor": 1
}
